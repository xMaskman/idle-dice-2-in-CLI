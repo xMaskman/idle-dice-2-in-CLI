{
 "cells": [
  {
   "cell_type": "code",
   "execution_count": 1,
   "id": "a219dd11",
   "metadata": {},
   "outputs": [
    {
     "name": "stdout",
     "output_type": "stream",
     "text": [
      "4\n"
     ]
    }
   ],
   "source": [
    "list = [[2],[3]]\n",
    "\n",
    "list[0][0] = list[0][0] + 2\n",
    "\n",
    "print(list[0][0])"
   ]
  },
  {
   "cell_type": "code",
   "execution_count": 2,
   "id": "9504c60b",
   "metadata": {},
   "outputs": [
    {
     "name": "stdout",
     "output_type": "stream",
     "text": [
      "1\n",
      "1\n",
      "1\n"
     ]
    }
   ],
   "source": [
    "list = [0,0,2]\n",
    "for lists in list:\n",
    "    print(\"1\")"
   ]
  },
  {
   "cell_type": "code",
   "execution_count": 13,
   "id": "5c661143",
   "metadata": {},
   "outputs": [
    {
     "data": {
      "text/plain": [
       "[1, 4, 9]"
      ]
     },
     "execution_count": 13,
     "metadata": {},
     "output_type": "execute_result"
    }
   ],
   "source": [
    "list = [1,2,3]\n",
    "multiplyers = [1,2,3]\n",
    "\n",
    "def multiplyer(list, multiplier):\n",
    "    multiplied = []\n",
    "    i = 0\n",
    "    for lists in list: \n",
    "        multipliers = lists * multiplier[i]\n",
    "        multiplied.append(multipliers)\n",
    "        i += 1\n",
    "    return multiplied\n",
    "\n",
    "multiplyer(list,multiplyers)"
   ]
  },
  {
   "cell_type": "code",
   "execution_count": 7,
   "id": "07c18c94",
   "metadata": {},
   "outputs": [
    {
     "name": "stdout",
     "output_type": "stream",
     "text": [
      "[1, 4, 9]\n"
     ]
    }
   ],
   "source": [
    "list = [1,2,3]\n",
    "multipliers = [1,2,3]\n",
    "number = []\n",
    "i = 0\n",
    "for lists in list: \n",
    "    multiplied = lists * multipliers[i]\n",
    "    number.append(multiplied)\n",
    "    i += 1\n",
    "\n",
    "print(number)"
   ]
  },
  {
   "cell_type": "code",
   "execution_count": 3,
   "id": "e783cd7d",
   "metadata": {},
   "outputs": [
    {
     "name": "stdout",
     "output_type": "stream",
     "text": [
      "2\n"
     ]
    }
   ],
   "source": [
    "upgrade = {\n",
    "        \"1\":[1,2],\n",
    "        1:10,\n",
    "        3:1000,\n",
    "        4:10000,\n",
    "        5:100000,\n",
    "    }\n",
    "print(upgrade[\"1\"][1])"
   ]
  },
  {
   "cell_type": "code",
   "execution_count": 10,
   "id": "979f05dc",
   "metadata": {},
   "outputs": [
    {
     "name": "stdout",
     "output_type": "stream",
     "text": [
      "This is false\n"
     ]
    }
   ],
   "source": [
    "\n",
    "dice_price = 100\n",
    "availability_of_dice = [1,1,0,0,0,0]\n",
    "total_money = 100\n",
    "\n",
    "def buying_dice():\n",
    "    total_money = 90\n",
    "    index = availability_of_dice.index(0)      \n",
    "    if total_money >= dice_price:\n",
    "        total_money = total_money-dice_price\n",
    "        availability_of_dice[index] = 1\n",
    "        print(availability_of_dice)       \n",
    "    else :\n",
    "        print(\"This is false\")\n",
    "\n",
    "buying_dice()"
   ]
  }
 ],
 "metadata": {
  "kernelspec": {
   "display_name": "Python 3",
   "language": "python",
   "name": "python3"
  },
  "language_info": {
   "codemirror_mode": {
    "name": "ipython",
    "version": 3
   },
   "file_extension": ".py",
   "mimetype": "text/x-python",
   "name": "python",
   "nbconvert_exporter": "python",
   "pygments_lexer": "ipython3",
   "version": "3.13.3"
  }
 },
 "nbformat": 4,
 "nbformat_minor": 5
}
